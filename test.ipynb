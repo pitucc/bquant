{
 "cells": [
  {
   "cell_type": "code",
   "execution_count": null,
   "id": "c4d650f6",
   "metadata": {},
   "outputs": [],
   "source": [
    "import panel as pn\n",
    "from bquant_app.app import DNApp\n",
    "\n",
    "pn.extension(\"tabulator\")\n",
    "app = DNApp()\n",
    "app.cb_ticker.value = \"DE000A4DFHL5 Corp\"  # sous-jacent laissé vide (dérivation auto)\n",
    "app.view()\n",
    "\n",
    "\n",
    "\n",
    "\n",
    "import pandas as pd\n",
    "import hvplot.pandas  # noqa\n",
    "from bquant_app.bql_fetch import fetch_timeseries_with_bql, compute_nuke_series_with_bql\n",
    "from bquant_app.logic import compute_dollar_neutral\n",
    "\n",
    "cb = \"DE000A4DFHL5 Corp\"\n",
    "start, end = \"2024-01-01\", pd.Timestamp.today().date().isoformat()\n",
    "\n",
    "ts = fetch_timeseries_with_bql(cb_ticker=cb, udly_ticker=None, start=start, end=end, freq=\"BUSINESS_DAYS\")\n",
    "\n",
    "df_delta = compute_dollar_neutral(cb_close=ts.cb_close, udly_close=ts.udly_close, ud_delta=ts.ud_delta,\n",
    "                                  anchor_date=None, method=\"delta\")\n",
    "anchor = df_delta.index[0]\n",
    "CB0, U0 = df_delta.at[anchor, \"cb_close\"], df_delta.at[anchor, \"udly_close\"]\n",
    "nuke_series = compute_nuke_series_with_bql(cb_ticker=cb, udly_close=df_delta[\"udly_close\"],\n",
    "                                           anchor_cb_price=float(CB0), anchor_udly_price=float(U0))\n",
    "df_bql = compute_dollar_neutral(cb_close=ts.cb_close, udly_close=ts.udly_close, ud_delta=ts.ud_delta,\n",
    "                                anchor_date=anchor, method=\"external_nuke\", nuke_series=nuke_series)\n",
    "\n",
    "overlay = df_delta[\"dn\"].rename(\"Delta (linéaire)\")\\\n",
    "    .to_frame().join(df_bql[\"dn\"].rename(\"BQL nuke\")).hvplot(height=350, line_width=2, title=\"DN DE000A4DFHL5 Corp\")\n",
    "overlay\n"
   ]
  }
 ],
 "metadata": {
  "language_info": {
   "name": "python"
  }
 },
 "nbformat": 4,
 "nbformat_minor": 5
}
